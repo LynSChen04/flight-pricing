{
 "cells": [
  {
   "cell_type": "code",
   "execution_count": null,
   "id": "33e94d64",
   "metadata": {},
   "outputs": [],
   "source": [
    "import pandas as pd\n",
    "import matplotlib.pyplot as plt\n",
    "import seaborn as sns\n",
    "\n",
    "df = pd.read_csv(\"synthetic_flight_prices_enriched.csv\")\n"
   ]
  },
  {
   "cell_type": "code",
   "execution_count": null,
   "id": "43eb92b3",
   "metadata": {},
   "outputs": [],
   "source": [
    "# 1. Price distribution\n",
    "sns.histplot(df['price'], bins=40, kde=True)\n",
    "plt.title('Distribution of Flight Prices')\n",
    "plt.show()"
   ]
  },
  {
   "cell_type": "code",
   "execution_count": null,
   "id": "14965aa9",
   "metadata": {},
   "outputs": [],
   "source": [
    "# 2. Price vs. Days Before Departure\n",
    "sns.scatterplot(data=df, x='days_before_departure', y='price', alpha=0.6)\n",
    "plt.title('Price vs. Days Before Departure')\n",
    "plt.show()"
   ]
  },
  {
   "cell_type": "code",
   "execution_count": null,
   "id": "af21cc51",
   "metadata": {},
   "outputs": [],
   "source": [
    "# 3. Average price by day of week\n",
    "sns.barplot(data=df, x='day_of_week', y='price')\n",
    "plt.title('Average Price by Day of Week')\n",
    "plt.xticks(rotation=45)\n",
    "plt.show()"
   ]
  },
  {
   "cell_type": "code",
   "execution_count": null,
   "id": "7288aeb2",
   "metadata": {},
   "outputs": [],
   "source": [
    "# 4. Average price by airline\n",
    "sns.boxplot(data=df, x='airline', y='price')\n",
    "plt.title('Price Distribution by Airline')\n",
    "plt.xticks(rotation=45)\n",
    "plt.show()"
   ]
  }
 ],
 "metadata": {
  "language_info": {
   "name": "python"
  }
 },
 "nbformat": 4,
 "nbformat_minor": 5
}
